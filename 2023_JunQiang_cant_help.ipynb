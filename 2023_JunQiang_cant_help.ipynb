{
  "cells": [
    {
      "cell_type": "markdown",
      "metadata": {
        "id": "view-in-github",
        "colab_type": "text"
      },
      "source": [
        "<a href=\"https://colab.research.google.com/github/junqiangtang/NTHU_2023_DLBOI_HW/blob/main/2023_JunQiang_cant_help.ipynb\" target=\"_parent\"><img src=\"https://colab.research.google.com/assets/colab-badge.svg\" alt=\"Open In Colab\"/></a>"
      ]
    },
    {
      "cell_type": "markdown",
      "metadata": {
        "id": "Li0bVCTuxc6n"
      },
      "source": [
        "<div align=\"center\">\n",
        "\n",
        "# National Tsing Hua University\n",
        "\n",
        "### Fall 2023\n",
        "\n",
        "#### 11210IPT 553000\n",
        "\n",
        "#### Deep Learning in Biomedical Optical Imaging\n",
        "\n",
        "## Lab 3: Hyperparameter Tuning\n",
        "\n",
        "</div>\n"
      ]
    },
    {
      "cell_type": "code",
      "execution_count": 21,
      "metadata": {
        "id": "mGJcRwdzM7pS",
        "colab": {
          "base_uri": "https://localhost:8080/"
        },
        "outputId": "a4261c9e-e7b1-4984-a314-8d4f1cf91489"
      },
      "outputs": [
        {
          "output_type": "stream",
          "name": "stdout",
          "text": [
            "--2023-10-14 16:02:48--  https://raw.githubusercontent.com/TacoXDD/homeworks/master/dataset/train/normal.npy\n",
            "Resolving raw.githubusercontent.com (raw.githubusercontent.com)... 185.199.108.133, 185.199.109.133, 185.199.110.133, ...\n",
            "Connecting to raw.githubusercontent.com (raw.githubusercontent.com)|185.199.108.133|:443... connected.\n",
            "HTTP request sent, awaiting response... 200 OK\n",
            "Length: 65536128 (62M) [application/octet-stream]\n",
            "Saving to: ‘normal.npy.1’\n",
            "\n",
            "normal.npy.1        100%[===================>]  62.50M   364MB/s    in 0.2s    \n",
            "\n",
            "2023-10-14 16:02:49 (364 MB/s) - ‘normal.npy.1’ saved [65536128/65536128]\n",
            "\n",
            "--2023-10-14 16:02:49--  https://raw.githubusercontent.com/TacoXDD/homeworks/master/dataset/train/pneumonia.npy\n",
            "Resolving raw.githubusercontent.com (raw.githubusercontent.com)... 185.199.108.133, 185.199.109.133, 185.199.110.133, ...\n",
            "Connecting to raw.githubusercontent.com (raw.githubusercontent.com)|185.199.108.133|:443... connected.\n",
            "HTTP request sent, awaiting response... 200 OK\n",
            "Length: 65536128 (62M) [application/octet-stream]\n",
            "Saving to: ‘pneumonia.npy.1’\n",
            "\n",
            "pneumonia.npy.1     100%[===================>]  62.50M   288MB/s    in 0.2s    \n",
            "\n",
            "2023-10-14 16:02:49 (288 MB/s) - ‘pneumonia.npy.1’ saved [65536128/65536128]\n",
            "\n"
          ]
        }
      ],
      "source": [
        "# # Download dataset\n",
        "!wget https://raw.githubusercontent.com/TacoXDD/homeworks/master/dataset/train/normal.npy\n",
        "!wget https://raw.githubusercontent.com/TacoXDD/homeworks/master/dataset/train/pneumonia.npy"
      ]
    },
    {
      "cell_type": "markdown",
      "metadata": {
        "id": "w-1PsC--M7pT"
      },
      "source": [
        "## A. Data Loading and Preprocessing"
      ]
    },
    {
      "cell_type": "code",
      "execution_count": 22,
      "metadata": {
        "id": "oScQ0GG6xc6r",
        "colab": {
          "base_uri": "https://localhost:8080/"
        },
        "outputId": "05d6d294-f5d0-4ce5-8616-db4fbd316898"
      },
      "outputs": [
        {
          "output_type": "stream",
          "name": "stdout",
          "text": [
            "Shape of abnormal_scans: (1000, 256, 256)\n",
            "Shape of normal_scans: (1000, 256, 256)\n",
            "Number of samples in train and validation are 1600 and 400.\n",
            "X_train: max value is 255.0, min value is 0.0, data type is torch.float32.\n"
          ]
        }
      ],
      "source": [
        "import torch\n",
        "from torch.utils.data import DataLoader, TensorDataset, random_split\n",
        "\n",
        "import numpy as np\n",
        "\n",
        "# Load Dataset\n",
        "abnormal_scans = np.load('pneumonia.npy')\n",
        "normal_scans = np.load('normal.npy')\n",
        "\n",
        "print(f'Shape of abnormal_scans: {abnormal_scans.shape}')\n",
        "print(f'Shape of normal_scans: {normal_scans.shape}')\n",
        "\n",
        "# For the data having presence of pneumonia assign 1, for the normal ones assign 0.\n",
        "\n",
        "abnormal_labels = np.ones((abnormal_scans.shape[0],))\n",
        "normal_labels = np.zeros((normal_scans.shape[0],))\n",
        "\n",
        "split_point = 800\n",
        "\n",
        "x_train = np.concatenate((abnormal_scans[:split_point], normal_scans[:split_point]), axis=0)\n",
        "y_train = np.concatenate((abnormal_labels[:split_point], normal_labels[:split_point]), axis=0)\n",
        "x_val = np.concatenate((abnormal_scans[split_point:], normal_scans[split_point:]), axis=0)\n",
        "y_val = np.concatenate((abnormal_labels[split_point:], normal_labels[split_point:]), axis=0)\n",
        "\n",
        "# Convert to PyTorch tensors\n",
        "x_train = torch.from_numpy(x_train).float()\n",
        "y_train = torch.from_numpy(y_train).long()\n",
        "x_val = torch.from_numpy(x_val).float()\n",
        "y_val = torch.from_numpy(y_val).long()\n",
        "\n",
        "# Create datasets\n",
        "train_dataset = TensorDataset(x_train, y_train)\n",
        "val_dataset = TensorDataset(x_val, y_val)\n",
        "\n",
        "# Create dataloaders\n",
        "train_loader = DataLoader(train_dataset, batch_size=32, shuffle=True)\n",
        "val_loader = DataLoader(val_dataset, batch_size=32, shuffle=False)\n",
        "\n",
        "print(f'Number of samples in train and validation are {len(train_loader.dataset)} and {len(val_loader.dataset)}.')\n",
        "print(f'X_train: max value is {x_train.max().item()}, min value is {x_train.min().item()}, data type is {x_train.dtype}.')"
      ]
    },
    {
      "cell_type": "markdown",
      "metadata": {
        "id": "oaLGtT28xc6s"
      },
      "source": [
        "## B. Defining Neural Networks in PyTorch"
      ]
    },
    {
      "cell_type": "code",
      "execution_count": 23,
      "metadata": {
        "id": "JZP0t5kOxc6s",
        "colab": {
          "base_uri": "https://localhost:8080/"
        },
        "outputId": "7f7c8be5-b9ee-48b0-92f5-7d98186ce087"
      },
      "outputs": [
        {
          "output_type": "stream",
          "name": "stdout",
          "text": [
            "Sequential(\n",
            "  (0): Flatten(start_dim=1, end_dim=-1)\n",
            "  (1): Linear(in_features=65536, out_features=64, bias=True)\n",
            "  (2): BatchNorm1d(64, eps=1e-05, momentum=0.1, affine=True, track_running_stats=True)\n",
            "  (3): ReLU()\n",
            "  (4): Dropout(p=0.5, inplace=False)\n",
            "  (5): Linear(in_features=64, out_features=64, bias=True)\n",
            "  (6): BatchNorm1d(64, eps=1e-05, momentum=0.1, affine=True, track_running_stats=True)\n",
            "  (7): ReLU()\n",
            "  (8): Dropout(p=0.5, inplace=False)\n",
            "  (9): Linear(in_features=64, out_features=64, bias=True)\n",
            "  (10): BatchNorm1d(64, eps=1e-05, momentum=0.1, affine=True, track_running_stats=True)\n",
            "  (11): ReLU()\n",
            "  (12): Dropout(p=0.5, inplace=False)\n",
            "  (13): Linear(in_features=64, out_features=1, bias=True)\n",
            ")\n"
          ]
        }
      ],
      "source": [
        "import torch.nn as nn\n",
        "\n",
        "# Model in Lab 2\n",
        "# model = nn.Sequential(\n",
        "#     nn.Flatten(),\n",
        "#     nn.Linear(256*256*1, 256),\n",
        "#     nn.ReLU(),\n",
        "#     nn.Linear(256, 1)\n",
        "# ).cuda()\n",
        "\n",
        "model = nn.Sequential(\n",
        "    nn.Flatten(),\n",
        "\n",
        "    nn.Linear(256*256*1, 64),\n",
        "    nn.BatchNorm1d(64),\n",
        "    nn.ReLU(),\n",
        "    nn.Dropout(0.5),\n",
        "\n",
        "    nn.Linear(64, 64),\n",
        "    nn.BatchNorm1d(64),\n",
        "    nn.ReLU(),\n",
        "    nn.Dropout(0.5),\n",
        "\n",
        "    nn.Linear(64, 64),\n",
        "    nn.BatchNorm1d(64),\n",
        "    nn.ReLU(),\n",
        "    nn.Dropout(0.5),\n",
        "\n",
        "    # nn.Linear(64, 2)\n",
        "    nn.Linear(64, 1)\n",
        "\n",
        ").cuda()\n",
        "\n",
        "print(model)\n"
      ]
    },
    {
      "cell_type": "markdown",
      "metadata": {
        "id": "nvLTU-IfZLqn"
      },
      "source": [
        "## C. Training the Neural Network"
      ]
    },
    {
      "cell_type": "code",
      "execution_count": 24,
      "metadata": {
        "id": "45ol4lpVxc6t",
        "colab": {
          "base_uri": "https://localhost:8080/"
        },
        "outputId": "5039ae54-f14f-445f-e623-5cf79aedd767"
      },
      "outputs": [
        {
          "output_type": "stream",
          "name": "stdout",
          "text": [
            "Epoch 1/30, Train Loss: 0.5740, Train Accuracy: 70.19%, Val Loss: 0.4271, Val Accuracy: 89.50%\n",
            "Epoch 2/30, Train Loss: 0.3720, Train Accuracy: 87.75%, Val Loss: 0.2727, Val Accuracy: 91.25%\n",
            "Epoch 3/30, Train Loss: 0.2610, Train Accuracy: 91.81%, Val Loss: 0.2755, Val Accuracy: 88.00%\n",
            "Epoch 4/30, Train Loss: 0.2209, Train Accuracy: 92.38%, Val Loss: 0.2865, Val Accuracy: 88.50%\n",
            "Epoch 5/30, Train Loss: 0.1963, Train Accuracy: 93.50%, Val Loss: 0.2763, Val Accuracy: 90.00%\n",
            "Epoch 6/30, Train Loss: 0.1595, Train Accuracy: 94.31%, Val Loss: 0.3653, Val Accuracy: 83.50%\n",
            "Epoch 7/30, Train Loss: 0.1325, Train Accuracy: 95.94%, Val Loss: 0.1687, Val Accuracy: 93.00%\n",
            "Epoch 8/30, Train Loss: 0.1340, Train Accuracy: 95.38%, Val Loss: 0.1656, Val Accuracy: 95.00%\n",
            "Epoch 9/30, Train Loss: 0.1348, Train Accuracy: 95.00%, Val Loss: 0.1571, Val Accuracy: 93.75%\n",
            "Epoch 10/30, Train Loss: 0.1098, Train Accuracy: 96.12%, Val Loss: 0.1735, Val Accuracy: 93.50%\n",
            "Epoch 11/30, Train Loss: 0.1081, Train Accuracy: 96.38%, Val Loss: 0.2426, Val Accuracy: 90.00%\n",
            "Epoch 12/30, Train Loss: 0.0971, Train Accuracy: 96.50%, Val Loss: 0.2409, Val Accuracy: 92.00%\n",
            "Epoch 13/30, Train Loss: 0.1087, Train Accuracy: 96.12%, Val Loss: 0.2026, Val Accuracy: 91.75%\n",
            "Epoch 14/30, Train Loss: 0.1159, Train Accuracy: 95.50%, Val Loss: 0.2305, Val Accuracy: 90.50%\n",
            "Epoch 15/30, Train Loss: 0.0931, Train Accuracy: 96.50%, Val Loss: 0.4657, Val Accuracy: 83.50%\n",
            "Epoch 16/30, Train Loss: 0.0888, Train Accuracy: 96.94%, Val Loss: 0.1718, Val Accuracy: 94.00%\n",
            "Epoch 17/30, Train Loss: 0.0886, Train Accuracy: 96.25%, Val Loss: 0.2931, Val Accuracy: 90.00%\n",
            "Epoch 18/30, Train Loss: 0.0701, Train Accuracy: 98.00%, Val Loss: 0.1846, Val Accuracy: 94.25%\n",
            "Epoch 19/30, Train Loss: 0.0769, Train Accuracy: 96.94%, Val Loss: 0.2081, Val Accuracy: 91.50%\n",
            "Epoch 20/30, Train Loss: 0.0815, Train Accuracy: 97.12%, Val Loss: 0.1799, Val Accuracy: 95.00%\n",
            "Epoch 21/30, Train Loss: 0.0629, Train Accuracy: 97.75%, Val Loss: 0.1601, Val Accuracy: 94.25%\n",
            "Epoch 22/30, Train Loss: 0.0742, Train Accuracy: 97.12%, Val Loss: 0.1869, Val Accuracy: 94.00%\n",
            "Epoch 23/30, Train Loss: 0.0553, Train Accuracy: 98.00%, Val Loss: 0.1520, Val Accuracy: 95.00%\n",
            "Epoch 24/30, Train Loss: 0.0601, Train Accuracy: 98.06%, Val Loss: 0.2454, Val Accuracy: 93.00%\n",
            "Epoch 25/30, Train Loss: 0.0601, Train Accuracy: 97.81%, Val Loss: 0.1781, Val Accuracy: 94.25%\n",
            "Epoch 26/30, Train Loss: 0.0628, Train Accuracy: 97.62%, Val Loss: 0.4030, Val Accuracy: 87.25%\n",
            "Epoch 27/30, Train Loss: 0.0451, Train Accuracy: 98.38%, Val Loss: 0.1996, Val Accuracy: 93.75%\n",
            "Epoch 28/30, Train Loss: 0.0563, Train Accuracy: 98.19%, Val Loss: 0.2450, Val Accuracy: 93.50%\n",
            "Epoch 29/30, Train Loss: 0.0662, Train Accuracy: 97.75%, Val Loss: 0.3181, Val Accuracy: 89.75%\n",
            "Epoch 30/30, Train Loss: 0.0592, Train Accuracy: 98.12%, Val Loss: 0.1962, Val Accuracy: 92.50%\n"
          ]
        }
      ],
      "source": [
        "import torch.optim as optim\n",
        "from torch.optim.lr_scheduler import CosineAnnealingLR, StepLR\n",
        "\n",
        "train_losses = []\n",
        "val_losses = []\n",
        "train_accuracies = []\n",
        "val_accuracies = []\n",
        "\n",
        "epochs = 30\n",
        "best_val_loss = float('inf')\n",
        "\n",
        "# Criterion and Optimizer\n",
        "\n",
        "criterion = nn.BCEWithLogitsLoss()\n",
        "# criterion = nn.CrossEntropyLoss()\n",
        "\n",
        "optimizer = optim.Adam(model.parameters(), lr=1e-3)\n",
        "\n",
        "lr_scheduler = CosineAnnealingLR(optimizer, T_max=len(train_loader)*epochs, eta_min=0)\n",
        "#lr_scheduler = StepLR(optimizer, step_size=10, gamma=0.1)\n",
        "\n",
        "for epoch in range(epochs):\n",
        "    # Training\n",
        "    model.train()\n",
        "    total_loss = 0.0\n",
        "    train_correct = 0\n",
        "    total_train_samples = 0\n",
        "\n",
        "    for images, labels in train_loader:\n",
        "        images = images.cuda()\n",
        "        images = images / 255.\n",
        "        labels = labels.cuda()\n",
        "        optimizer.zero_grad()\n",
        "        outputs = model(images)\n",
        "\n",
        "        labels = labels.float().unsqueeze(1)\n",
        "        # labels = labels.long()\n",
        "\n",
        "        loss = criterion(outputs, labels)\n",
        "        loss.backward()\n",
        "        optimizer.step()\n",
        "        total_loss += loss.item()\n",
        "\n",
        "        train_predicted = torch.sigmoid(outputs) > 0.5\n",
        "        # train_predicted = outputs.argmax(-1)\n",
        "        train_correct += (train_predicted.float() == labels).sum().item()\n",
        "        total_train_samples += labels.size(0)\n",
        "\n",
        "    avg_train_loss = total_loss / len(train_loader)\n",
        "    train_accuracy = 100. * train_correct / total_train_samples\n",
        "\n",
        "    # Validation\n",
        "    model.eval()\n",
        "    total_val_loss = 0.0\n",
        "    correct = 0\n",
        "    total = 0\n",
        "    with torch.no_grad():\n",
        "        for images, labels in val_loader:\n",
        "            images = images.cuda()\n",
        "            images = images / 255.\n",
        "            labels = labels.cuda()\n",
        "            outputs = model(images)\n",
        "\n",
        "            labels = labels.float().unsqueeze(1)\n",
        "            # labels = labels.long()\n",
        "\n",
        "            loss = criterion(outputs, labels)\n",
        "            total_val_loss += loss.item()\n",
        "\n",
        "            train_predicted = torch.sigmoid(outputs) > 0.5\n",
        "            # train_predicted = outputs.argmax(-1)\n",
        "            correct += (train_predicted.float() == labels).sum().item()\n",
        "            total += labels.size(0)\n",
        "\n",
        "    avg_val_loss = total_val_loss / len(val_loader)\n",
        "    val_accuracy = 100. * correct / total\n",
        "\n",
        "    print(f'Epoch {epoch+1}/{epochs}, Train Loss: {avg_train_loss:.4f}, Train Accuracy: {train_accuracy:.2f}%, Val Loss: {avg_val_loss:.4f}, Val Accuracy: {val_accuracy:.2f}%')\n",
        "\n",
        "    # Learning rate update\n",
        "    lr_scheduler.step()\n",
        "\n",
        "    # Checkpoint\n",
        "    if avg_val_loss < best_val_loss:\n",
        "        best_val_loss = avg_val_loss\n",
        "        torch.save(model.state_dict(), 'model_classification.pth')\n",
        "\n",
        "    # Store performance\n",
        "    train_losses.append(avg_train_loss)\n",
        "    train_accuracies.append(train_accuracy)\n",
        "    val_losses.append(avg_val_loss)\n",
        "    val_accuracies.append(val_accuracy)"
      ]
    },
    {
      "cell_type": "markdown",
      "metadata": {
        "id": "pjmYxAJnxc6t"
      },
      "source": [
        "### Visualizing model performance"
      ]
    },
    {
      "cell_type": "code",
      "execution_count": 25,
      "metadata": {
        "id": "pHpS0Q7vxc6t",
        "colab": {
          "base_uri": "https://localhost:8080/",
          "height": 442
        },
        "outputId": "e583b718-0257-4a91-c735-42accce9ab6b"
      },
      "outputs": [
        {
          "output_type": "display_data",
          "data": {
            "text/plain": [
              "<Figure size 1500x500 with 2 Axes>"
            ],
            "image/png": "[encoded data removed]"
          },
          "metadata": {}
        }
      ],
      "source": [
        "import matplotlib.pyplot as plt\n",
        "\n",
        "fig, ax = plt.subplots(1, 2, figsize=(15, 5))\n",
        "\n",
        "# Plotting training and validation accuracy\n",
        "ax[0].plot(train_accuracies)\n",
        "ax[0].plot(val_accuracies)\n",
        "ax[0].set_title('Model Accuracy')\n",
        "ax[0].set_xlabel('Epochs')\n",
        "ax[0].set_ylabel('Accuracy')\n",
        "ax[0].legend(['Train', 'Val'])\n",
        "\n",
        "# Plotting training and validation loss\n",
        "ax[1].plot(train_losses)\n",
        "ax[1].plot(val_losses)\n",
        "ax[1].set_title('Model Loss')\n",
        "ax[1].set_xlabel('Epochs')\n",
        "ax[1].set_ylabel('Loss')\n",
        "ax[1].legend(['Train', 'Val'])\n",
        "\n",
        "plt.show()"
      ]
    },
    {
      "cell_type": "code",
      "execution_count": 26,
      "metadata": {
        "colab": {
          "base_uri": "https://localhost:8080/"
        },
        "id": "4q6O3twDDB41",
        "outputId": "6ce55793-f687-42c9-ff3d-674a0abd68e1"
      },
      "outputs": [
        {
          "output_type": "stream",
          "name": "stdout",
          "text": [
            "--2023-10-14 16:05:10--  https://raw.githubusercontent.com/TacoXDD/homeworks/master/dataset/test/test_normal.npy\n",
            "Resolving raw.githubusercontent.com (raw.githubusercontent.com)... 185.199.108.133, 185.199.109.133, 185.199.110.133, ...\n",
            "Connecting to raw.githubusercontent.com (raw.githubusercontent.com)|185.199.108.133|:443... connected.\n",
            "HTTP request sent, awaiting response... 200 OK\n",
            "Length: 13107328 (12M) [application/octet-stream]\n",
            "Saving to: ‘test_normal.npy.2’\n",
            "\n",
            "test_normal.npy.2   100%[===================>]  12.50M  --.-KB/s    in 0.05s   \n",
            "\n",
            "2023-10-14 16:05:11 (241 MB/s) - ‘test_normal.npy.2’ saved [13107328/13107328]\n",
            "\n",
            "--2023-10-14 16:05:11--  https://raw.githubusercontent.com/TacoXDD/homeworks/master/dataset/test/test_pneumonia.npy\n",
            "Resolving raw.githubusercontent.com (raw.githubusercontent.com)... 185.199.111.133, 185.199.109.133, 185.199.110.133, ...\n",
            "Connecting to raw.githubusercontent.com (raw.githubusercontent.com)|185.199.111.133|:443... connected.\n",
            "HTTP request sent, awaiting response... 200 OK\n",
            "Length: 13107328 (12M) [application/octet-stream]\n",
            "Saving to: ‘test_pneumonia.npy.2’\n",
            "\n",
            "test_pneumonia.npy. 100%[===================>]  12.50M  --.-KB/s    in 0.05s   \n",
            "\n",
            "2023-10-14 16:05:11 (257 MB/s) - ‘test_pneumonia.npy.2’ saved [13107328/13107328]\n",
            "\n"
          ]
        }
      ],
      "source": [
        "!wget https://raw.githubusercontent.com/TacoXDD/homeworks/master/dataset/test/test_normal.npy\n",
        "!wget https://raw.githubusercontent.com/TacoXDD/homeworks/master/dataset/test/test_pneumonia.npy"
      ]
    },
    {
      "cell_type": "code",
      "source": [
        "import numpy as np\n",
        "\n",
        "test_abnormal = np.load('test_pneumonia.npy')\n",
        "test_normal = np.load('test_normal.npy')\n",
        "\n",
        "print(f'Shape of test_abnormal: {test_abnormal.shape}')\n",
        "print(f'Shape of test_normal: {test_normal.shape}')\n",
        "\n",
        "# For the data having presence of pneumonia assign 1, for the normal ones assign 0.\n",
        "test_abnormal_labels = np.ones((test_abnormal.shape[0],))\n",
        "test_normal_labels = np.zeros((test_normal.shape[0],))\n",
        "\n",
        "x_test = np.concatenate((test_abnormal, test_normal), axis=0)\n",
        "y_test = np.concatenate((test_abnormal_labels, test_normal_labels), axis=0)\n",
        "\n",
        "print(f'Shape of x_test: {x_test.shape}')\n",
        "print(f'Shape of y_test: {y_test.shape}')\n",
        "\n"
      ],
      "metadata": {
        "colab": {
          "base_uri": "https://localhost:8080/"
        },
        "id": "sHofvT_5IapE",
        "outputId": "8f7c23cf-6c4e-41aa-868f-4614924531dc"
      },
      "execution_count": 27,
      "outputs": [
        {
          "output_type": "stream",
          "name": "stdout",
          "text": [
            "Shape of test_abnormal: (200, 256, 256)\n",
            "Shape of test_normal: (200, 256, 256)\n",
            "Shape of x_test: (400, 256, 256)\n",
            "Shape of y_test: (400,)\n"
          ]
        }
      ]
    },
    {
      "cell_type": "code",
      "source": [
        "import torch\n",
        "from torch.utils.data import DataLoader, TensorDataset, random_split\n",
        "\n",
        "# Convert to PyTorch tensors\n",
        "x_test = torch.Tensor(x_test).float()\n",
        "y_test = torch.Tensor(y_test).long()\n",
        "\n",
        "# Combine the images and labels into a dataset\n",
        "test_dataset = TensorDataset(x_test, y_test)\n",
        "\n",
        "# Create a dataloader to load data in batches. Set batch size to 32.\n",
        "test_loader = DataLoader(test_dataset, batch_size=32, shuffle=True)"
      ],
      "metadata": {
        "id": "I9dIVH2QIdqG"
      },
      "execution_count": 28,
      "outputs": []
    },
    {
      "cell_type": "markdown",
      "source": [],
      "metadata": {
        "id": "gN6MRegqec4K"
      }
    },
    {
      "cell_type": "code",
      "source": [
        "model = nn.Sequential(\n",
        "    nn.Flatten(),\n",
        "\n",
        "    nn.Linear(256*256*1, 64),\n",
        "    nn.BatchNorm1d(64),\n",
        "    nn.ReLU(),\n",
        "    nn.Dropout(0.5),\n",
        "\n",
        "    nn.Linear(64, 64),\n",
        "    nn.BatchNorm1d(64),\n",
        "    nn.ReLU(),\n",
        "    nn.Dropout(0.5),\n",
        "\n",
        "    nn.Linear(64, 64),\n",
        "    nn.BatchNorm1d(64),\n",
        "    nn.ReLU(),\n",
        "    nn.Dropout(0.5),\n",
        "\n",
        "    # nn.Linear(64, 2)\n",
        "    nn.Linear(64, 1)\n",
        ").cuda()\n",
        "\n",
        "# Load the trained weights\n",
        "model.load_state_dict(torch.load('model_classification.pth'))\n",
        "\n",
        "# Set the model to evaluation mode\n",
        "model.eval()\n",
        "\n"
      ],
      "metadata": {
        "colab": {
          "base_uri": "https://localhost:8080/"
        },
        "id": "VDp5Pfo9IjWy",
        "outputId": "b0b2d7b8-7b22-4b6c-83b7-0cf77a198591"
      },
      "execution_count": 29,
      "outputs": [
        {
          "output_type": "execute_result",
          "data": {
            "text/plain": [
              "Sequential(\n",
              "  (0): Flatten(start_dim=1, end_dim=-1)\n",
              "  (1): Linear(in_features=65536, out_features=64, bias=True)\n",
              "  (2): BatchNorm1d(64, eps=1e-05, momentum=0.1, affine=True, track_running_stats=True)\n",
              "  (3): ReLU()\n",
              "  (4): Dropout(p=0.5, inplace=False)\n",
              "  (5): Linear(in_features=64, out_features=64, bias=True)\n",
              "  (6): BatchNorm1d(64, eps=1e-05, momentum=0.1, affine=True, track_running_stats=True)\n",
              "  (7): ReLU()\n",
              "  (8): Dropout(p=0.5, inplace=False)\n",
              "  (9): Linear(in_features=64, out_features=64, bias=True)\n",
              "  (10): BatchNorm1d(64, eps=1e-05, momentum=0.1, affine=True, track_running_stats=True)\n",
              "  (11): ReLU()\n",
              "  (12): Dropout(p=0.5, inplace=False)\n",
              "  (13): Linear(in_features=64, out_features=1, bias=True)\n",
              ")"
            ]
          },
          "metadata": {},
          "execution_count": 29
        }
      ]
    },
    {
      "cell_type": "code",
      "source": [
        "test_correct = 0\n",
        "test_total = 0\n",
        "\n",
        "\n",
        "with torch.no_grad():\n",
        "    for images, labels in test_loader:\n",
        "\n",
        "        images = images.cuda()\n",
        "        images = images / 255.\n",
        "\n",
        "        labels = labels.cuda()\n",
        "\n",
        "        outputs = model(images)\n",
        "\n",
        "        labels_float = labels.float().unsqueeze(1)  # Convert labels to float and match shape with outputs\n",
        "        # labels_float = labels.long()\n",
        "\n",
        "        train_predicted = (outputs > 0.5).float()\n",
        "        # train_predicted = outputs.argmax(-1)\n",
        "\n",
        "        test_correct += (train_predicted.float() == labels_float).sum().item()\n",
        "        test_total += labels.size(0)\n",
        "\n",
        "        train_accuracy = 100. * test_correct / test_total\n",
        "\n",
        "print(f'Test accuracy is {train_accuracy:.2f}%.')"
      ],
      "metadata": {
        "colab": {
          "base_uri": "https://localhost:8080/"
        },
        "id": "1lKj3uw0hXmK",
        "outputId": "5b704711-48fa-40a6-848b-5e12b3c6dd0b"
      },
      "execution_count": 30,
      "outputs": [
        {
          "output_type": "stream",
          "name": "stdout",
          "text": [
            "Test accuracy is 73.25%.\n"
          ]
        }
      ]
    }
  ],
  "metadata": {
    "accelerator": "GPU",
    "colab": {
      "gpuType": "T4",
      "provenance": [],
      "include_colab_link": true
    },
    "kernelspec": {
      "display_name": "Python 3",
      "name": "python3"
    },
    "language_info": {
      "codemirror_mode": {
        "name": "ipython",
        "version": 3
      },
      "file_extension": ".py",
      "mimetype": "text/x-python",
      "name": "python",
      "nbconvert_exporter": "python",
      "pygments_lexer": "ipython3",
      "version": "3.8.13"
    }
  },
  "nbformat": 4,
  "nbformat_minor": 0
}