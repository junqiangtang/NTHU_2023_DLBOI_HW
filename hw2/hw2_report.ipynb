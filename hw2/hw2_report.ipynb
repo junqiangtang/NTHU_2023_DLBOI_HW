{
  "cells": [
    {
      "cell_type": "markdown",
      "metadata": {
        "id": "view-in-github",
        "colab_type": "text"
      },
      "source": [
        "<a href=\"https://colab.research.google.com/github/junqiangtang/NTHU_2023_DLBOI_HW/blob/main/hw2_report.ipynb\" target=\"_parent\"><img src=\"https://colab.research.google.com/assets/colab-badge.svg\" alt=\"Open In Colab\"/></a>"
      ]
    },
    {
      "cell_type": "markdown",
      "metadata": {
        "id": "Li0bVCTuxc6n"
      },
      "source": [
        "<div align=\"center\">\n",
        "\n",
        "# National Tsing Hua University\n",
        "\n",
        "### Fall 2023\n",
        "\n",
        "#### 11210IPT 553000\n",
        "\n",
        "#### Deep Learning in Biomedical Optical Imaging\n",
        "\n",
        "## Lab 3: Hyperparameter Tuning\n",
        "\n",
        "</div>\n"
      ]
    },
    {
      "cell_type": "code",
      "execution_count": null,
      "metadata": {
        "id": "mGJcRwdzM7pS",
        "colab": {
          "base_uri": "https://localhost:8080/"
        },
        "outputId": "01032ee7-5807-4a8c-d7e5-a998e4a2702e"
      },
      "outputs": [
        {
          "output_type": "stream",
          "name": "stdout",
          "text": [
            "--2023-10-15 15:51:20--  https://raw.githubusercontent.com/TacoXDD/homeworks/master/dataset/train/normal.npy\n",
            "Resolving raw.githubusercontent.com (raw.githubusercontent.com)... 185.199.108.133, 185.199.109.133, 185.199.110.133, ...\n",
            "Connecting to raw.githubusercontent.com (raw.githubusercontent.com)|185.199.108.133|:443... connected.\n",
            "HTTP request sent, awaiting response... 200 OK\n",
            "Length: 65536128 (62M) [application/octet-stream]\n",
            "Saving to: ‘normal.npy.1’\n",
            "\n",
            "normal.npy.1        100%[===================>]  62.50M   255MB/s    in 0.2s    \n",
            "\n",
            "2023-10-15 15:51:20 (255 MB/s) - ‘normal.npy.1’ saved [65536128/65536128]\n",
            "\n",
            "--2023-10-15 15:51:20--  https://raw.githubusercontent.com/TacoXDD/homeworks/master/dataset/train/pneumonia.npy\n",
            "Resolving raw.githubusercontent.com (raw.githubusercontent.com)... 185.199.108.133, 185.199.109.133, 185.199.110.133, ...\n",
            "Connecting to raw.githubusercontent.com (raw.githubusercontent.com)|185.199.108.133|:443... connected.\n",
            "HTTP request sent, awaiting response... 200 OK\n",
            "Length: 65536128 (62M) [application/octet-stream]\n",
            "Saving to: ‘pneumonia.npy.1’\n",
            "\n",
            "pneumonia.npy.1     100%[===================>]  62.50M   239MB/s    in 0.3s    \n",
            "\n",
            "2023-10-15 15:51:21 (239 MB/s) - ‘pneumonia.npy.1’ saved [65536128/65536128]\n",
            "\n"
          ]
        }
      ],
      "source": [
        "# # Download dataset\n",
        "!wget https://raw.githubusercontent.com/TacoXDD/homeworks/master/dataset/train/normal.npy\n",
        "!wget https://raw.githubusercontent.com/TacoXDD/homeworks/master/dataset/train/pneumonia.npy"
      ]
    },
    {
      "cell_type": "markdown",
      "metadata": {
        "id": "w-1PsC--M7pT"
      },
      "source": [
        "## A. Data Loading and Preprocessing"
      ]
    },
    {
      "cell_type": "code",
      "execution_count": null,
      "metadata": {
        "id": "oScQ0GG6xc6r",
        "colab": {
          "base_uri": "https://localhost:8080/"
        },
        "outputId": "6e2920db-132e-4ce9-f460-c8f8b3de0151"
      },
      "outputs": [
        {
          "output_type": "stream",
          "name": "stdout",
          "text": [
            "Shape of abnormal_scans: (1000, 256, 256)\n",
            "Shape of normal_scans: (1000, 256, 256)\n",
            "Number of samples in train and validation are 1600 and 400.\n",
            "X_train: max value is 255.0, min value is 0.0, data type is torch.float32.\n"
          ]
        }
      ],
      "source": [
        "import torch\n",
        "from torch.utils.data import DataLoader, TensorDataset, random_split\n",
        "\n",
        "import numpy as np\n",
        "\n",
        "# Load Dataset\n",
        "abnormal_scans = np.load('pneumonia.npy')\n",
        "normal_scans = np.load('normal.npy')\n",
        "\n",
        "print(f'Shape of abnormal_scans: {abnormal_scans.shape}')\n",
        "print(f'Shape of normal_scans: {normal_scans.shape}')\n",
        "\n",
        "# For the data having presence of pneumonia assign 1, for the normal ones assign 0.\n",
        "\n",
        "abnormal_labels = np.ones((abnormal_scans.shape[0],))\n",
        "normal_labels = np.zeros((normal_scans.shape[0],))\n",
        "\n",
        "split_point = 800\n",
        "\n",
        "x_train = np.concatenate((abnormal_scans[:split_point], normal_scans[:split_point]), axis=0)\n",
        "y_train = np.concatenate((abnormal_labels[:split_point], normal_labels[:split_point]), axis=0)\n",
        "x_val = np.concatenate((abnormal_scans[split_point:], normal_scans[split_point:]), axis=0)\n",
        "y_val = np.concatenate((abnormal_labels[split_point:], normal_labels[split_point:]), axis=0)\n",
        "\n",
        "# Convert to PyTorch tensors\n",
        "x_train = torch.from_numpy(x_train).float()\n",
        "y_train = torch.from_numpy(y_train).long()\n",
        "x_val = torch.from_numpy(x_val).float()\n",
        "y_val = torch.from_numpy(y_val).long()\n",
        "\n",
        "# Create datasets\n",
        "train_dataset = TensorDataset(x_train, y_train)\n",
        "val_dataset = TensorDataset(x_val, y_val)\n",
        "\n",
        "# Create dataloaders\n",
        "train_loader = DataLoader(train_dataset, batch_size=8, shuffle=True)\n",
        "val_loader = DataLoader(val_dataset, batch_size=8, shuffle=False)\n",
        "\n",
        "print(f'Number of samples in train and validation are {len(train_loader.dataset)} and {len(val_loader.dataset)}.')\n",
        "print(f'X_train: max value is {x_train.max().item()}, min value is {x_train.min().item()}, data type is {x_train.dtype}.')"
      ]
    },
    {
      "cell_type": "markdown",
      "metadata": {
        "id": "oaLGtT28xc6s"
      },
      "source": [
        "## B. Defining Neural Networks in PyTorch"
      ]
    },
    {
      "cell_type": "code",
      "execution_count": null,
      "metadata": {
        "id": "JZP0t5kOxc6s",
        "colab": {
          "base_uri": "https://localhost:8080/"
        },
        "outputId": "498aef01-a96c-438b-e2ef-760171c5f61d"
      },
      "outputs": [
        {
          "output_type": "stream",
          "name": "stdout",
          "text": [
            "Sequential(\n",
            "  (0): Flatten(start_dim=1, end_dim=-1)\n",
            "  (1): Linear(in_features=65536, out_features=64, bias=True)\n",
            "  (2): BatchNorm1d(64, eps=1e-05, momentum=0.1, affine=True, track_running_stats=True)\n",
            "  (3): ReLU()\n",
            "  (4): Dropout(p=0.5, inplace=False)\n",
            "  (5): Linear(in_features=64, out_features=64, bias=True)\n",
            "  (6): BatchNorm1d(64, eps=1e-05, momentum=0.1, affine=True, track_running_stats=True)\n",
            "  (7): ReLU()\n",
            "  (8): Dropout(p=0.5, inplace=False)\n",
            "  (9): Linear(in_features=64, out_features=64, bias=True)\n",
            "  (10): BatchNorm1d(64, eps=1e-05, momentum=0.1, affine=True, track_running_stats=True)\n",
            "  (11): ReLU()\n",
            "  (12): Dropout(p=0.5, inplace=False)\n",
            "  (13): Linear(in_features=64, out_features=1, bias=True)\n",
            ")\n"
          ]
        }
      ],
      "source": [
        "import torch.nn as nn\n",
        "\n",
        "# Model in Lab 2\n",
        "# model = nn.Sequential(\n",
        "#     nn.Flatten(),\n",
        "#     nn.Linear(256*256*1, 256),\n",
        "#     nn.ReLU(),\n",
        "#     nn.Linear(256, 1)\n",
        "# ).cuda()\n",
        "\n",
        "model = nn.Sequential(\n",
        "    nn.Flatten(),\n",
        "\n",
        "    nn.Linear(256*256*1, 64),\n",
        "    nn.BatchNorm1d(64),\n",
        "    nn.ReLU(),\n",
        "    nn.Dropout(0.5),\n",
        "\n",
        "    nn.Linear(64, 64),\n",
        "    nn.BatchNorm1d(64),\n",
        "    nn.ReLU(),\n",
        "    nn.Dropout(0.5),\n",
        "\n",
        "    nn.Linear(64, 64),\n",
        "    nn.BatchNorm1d(64),\n",
        "    nn.ReLU(),\n",
        "    nn.Dropout(0.5),\n",
        "\n",
        "    # nn.Linear(64, 2)\n",
        "    nn.Linear(64, 1)\n",
        "\n",
        ").cuda()\n",
        "\n",
        "print(model)\n"
      ]
    },
    {
      "cell_type": "markdown",
      "metadata": {
        "id": "nvLTU-IfZLqn"
      },
      "source": [
        "## C. Training the Neural Network"
      ]
    },
    {
      "cell_type": "code",
      "execution_count": null,
      "metadata": {
        "id": "45ol4lpVxc6t",
        "colab": {
          "base_uri": "https://localhost:8080/"
        },
        "outputId": "bef8f31e-6624-4535-a32f-f0ee127f18e3"
      },
      "outputs": [
        {
          "output_type": "stream",
          "name": "stdout",
          "text": [
            "Epoch 1/60, Train Loss: 0.5435, Train Accuracy: 72.81%, Val Loss: 0.3693, Val Accuracy: 88.50%\n",
            "Epoch 2/60, Train Loss: 0.3750, Train Accuracy: 84.94%, Val Loss: 0.3622, Val Accuracy: 82.75%\n",
            "Epoch 3/60, Train Loss: 0.2924, Train Accuracy: 89.56%, Val Loss: 0.2300, Val Accuracy: 93.50%\n",
            "Epoch 4/60, Train Loss: 0.3118, Train Accuracy: 88.25%, Val Loss: 0.2771, Val Accuracy: 91.75%\n",
            "Epoch 5/60, Train Loss: 0.2555, Train Accuracy: 90.81%, Val Loss: 0.2303, Val Accuracy: 90.75%\n",
            "Epoch 6/60, Train Loss: 0.2782, Train Accuracy: 90.12%, Val Loss: 0.2037, Val Accuracy: 92.25%\n",
            "Epoch 7/60, Train Loss: 0.2819, Train Accuracy: 88.81%, Val Loss: 0.2526, Val Accuracy: 90.75%\n",
            "Epoch 8/60, Train Loss: 0.2472, Train Accuracy: 91.50%, Val Loss: 0.2077, Val Accuracy: 94.00%\n",
            "Epoch 9/60, Train Loss: 0.2366, Train Accuracy: 92.06%, Val Loss: 0.1657, Val Accuracy: 94.25%\n",
            "Epoch 10/60, Train Loss: 0.2050, Train Accuracy: 93.00%, Val Loss: 0.2933, Val Accuracy: 87.25%\n",
            "Epoch 11/60, Train Loss: 0.1869, Train Accuracy: 93.94%, Val Loss: 0.1540, Val Accuracy: 94.50%\n",
            "Epoch 12/60, Train Loss: 0.1902, Train Accuracy: 93.44%, Val Loss: 0.1372, Val Accuracy: 95.50%\n",
            "Epoch 13/60, Train Loss: 0.1884, Train Accuracy: 93.88%, Val Loss: 0.1678, Val Accuracy: 94.25%\n",
            "Epoch 14/60, Train Loss: 0.1747, Train Accuracy: 94.50%, Val Loss: 0.1571, Val Accuracy: 95.25%\n",
            "Epoch 15/60, Train Loss: 0.1970, Train Accuracy: 93.31%, Val Loss: 0.1422, Val Accuracy: 94.75%\n",
            "Epoch 16/60, Train Loss: 0.1908, Train Accuracy: 92.69%, Val Loss: 0.1855, Val Accuracy: 93.75%\n",
            "Epoch 17/60, Train Loss: 0.2097, Train Accuracy: 92.25%, Val Loss: 0.1428, Val Accuracy: 95.00%\n",
            "Epoch 18/60, Train Loss: 0.2166, Train Accuracy: 92.81%, Val Loss: 0.1454, Val Accuracy: 95.25%\n",
            "Epoch 19/60, Train Loss: 0.1897, Train Accuracy: 93.38%, Val Loss: 0.1343, Val Accuracy: 95.50%\n",
            "Epoch 20/60, Train Loss: 0.1926, Train Accuracy: 93.81%, Val Loss: 0.1347, Val Accuracy: 95.00%\n",
            "Epoch 21/60, Train Loss: 0.1896, Train Accuracy: 93.94%, Val Loss: 0.1339, Val Accuracy: 95.25%\n",
            "Epoch 22/60, Train Loss: 0.1591, Train Accuracy: 94.75%, Val Loss: 0.1464, Val Accuracy: 95.25%\n",
            "Epoch 23/60, Train Loss: 0.1981, Train Accuracy: 93.56%, Val Loss: 0.1403, Val Accuracy: 94.75%\n",
            "Epoch 24/60, Train Loss: 0.1804, Train Accuracy: 94.06%, Val Loss: 0.1426, Val Accuracy: 94.75%\n",
            "Epoch 25/60, Train Loss: 0.1709, Train Accuracy: 94.44%, Val Loss: 0.1371, Val Accuracy: 95.50%\n",
            "Epoch 26/60, Train Loss: 0.1956, Train Accuracy: 93.56%, Val Loss: 0.1349, Val Accuracy: 95.00%\n",
            "Epoch 27/60, Train Loss: 0.1874, Train Accuracy: 94.12%, Val Loss: 0.1368, Val Accuracy: 94.75%\n",
            "Epoch 28/60, Train Loss: 0.2079, Train Accuracy: 92.31%, Val Loss: 0.1408, Val Accuracy: 94.75%\n",
            "Epoch 29/60, Train Loss: 0.2202, Train Accuracy: 92.88%, Val Loss: 0.1371, Val Accuracy: 95.00%\n",
            "Epoch 30/60, Train Loss: 0.1761, Train Accuracy: 94.12%, Val Loss: 0.1426, Val Accuracy: 95.00%\n",
            "Epoch 31/60, Train Loss: 0.1656, Train Accuracy: 94.56%, Val Loss: 0.1376, Val Accuracy: 94.75%\n",
            "Epoch 32/60, Train Loss: 0.1764, Train Accuracy: 94.88%, Val Loss: 0.1324, Val Accuracy: 94.75%\n",
            "Epoch 33/60, Train Loss: 0.1892, Train Accuracy: 93.06%, Val Loss: 0.1353, Val Accuracy: 94.75%\n",
            "Epoch 34/60, Train Loss: 0.1610, Train Accuracy: 95.12%, Val Loss: 0.1358, Val Accuracy: 95.00%\n",
            "Epoch 35/60, Train Loss: 0.1700, Train Accuracy: 94.38%, Val Loss: 0.1447, Val Accuracy: 94.75%\n",
            "Epoch 36/60, Train Loss: 0.1685, Train Accuracy: 94.19%, Val Loss: 0.1393, Val Accuracy: 95.00%\n",
            "Epoch 37/60, Train Loss: 0.2000, Train Accuracy: 93.12%, Val Loss: 0.1353, Val Accuracy: 95.25%\n",
            "Epoch 38/60, Train Loss: 0.1605, Train Accuracy: 95.06%, Val Loss: 0.1396, Val Accuracy: 95.00%\n",
            "Epoch 39/60, Train Loss: 0.1811, Train Accuracy: 94.19%, Val Loss: 0.1397, Val Accuracy: 95.25%\n",
            "Epoch 40/60, Train Loss: 0.1785, Train Accuracy: 94.19%, Val Loss: 0.1559, Val Accuracy: 95.00%\n",
            "Epoch 41/60, Train Loss: 0.1880, Train Accuracy: 93.56%, Val Loss: 0.1332, Val Accuracy: 95.00%\n",
            "Epoch 42/60, Train Loss: 0.1553, Train Accuracy: 94.19%, Val Loss: 0.1340, Val Accuracy: 94.50%\n",
            "Epoch 43/60, Train Loss: 0.1679, Train Accuracy: 94.69%, Val Loss: 0.1424, Val Accuracy: 95.00%\n",
            "Epoch 44/60, Train Loss: 0.1907, Train Accuracy: 93.25%, Val Loss: 0.1394, Val Accuracy: 95.00%\n",
            "Epoch 45/60, Train Loss: 0.2048, Train Accuracy: 93.50%, Val Loss: 0.1347, Val Accuracy: 94.50%\n",
            "Epoch 46/60, Train Loss: 0.1618, Train Accuracy: 94.44%, Val Loss: 0.1452, Val Accuracy: 95.00%\n",
            "Epoch 47/60, Train Loss: 0.1918, Train Accuracy: 93.75%, Val Loss: 0.1379, Val Accuracy: 94.50%\n",
            "Epoch 48/60, Train Loss: 0.1634, Train Accuracy: 93.94%, Val Loss: 0.1454, Val Accuracy: 95.50%\n",
            "Epoch 49/60, Train Loss: 0.1773, Train Accuracy: 93.75%, Val Loss: 0.1367, Val Accuracy: 95.00%\n",
            "Epoch 50/60, Train Loss: 0.1883, Train Accuracy: 93.94%, Val Loss: 0.1391, Val Accuracy: 94.75%\n",
            "Epoch 51/60, Train Loss: 0.1891, Train Accuracy: 93.38%, Val Loss: 0.1441, Val Accuracy: 95.00%\n",
            "Epoch 52/60, Train Loss: 0.1713, Train Accuracy: 94.00%, Val Loss: 0.1359, Val Accuracy: 95.00%\n",
            "Epoch 53/60, Train Loss: 0.1802, Train Accuracy: 94.38%, Val Loss: 0.1371, Val Accuracy: 95.00%\n",
            "Epoch 54/60, Train Loss: 0.1633, Train Accuracy: 94.38%, Val Loss: 0.1398, Val Accuracy: 95.25%\n",
            "Epoch 55/60, Train Loss: 0.1660, Train Accuracy: 94.06%, Val Loss: 0.1423, Val Accuracy: 94.50%\n",
            "Epoch 56/60, Train Loss: 0.1679, Train Accuracy: 94.81%, Val Loss: 0.1358, Val Accuracy: 94.75%\n",
            "Epoch 57/60, Train Loss: 0.1966, Train Accuracy: 93.31%, Val Loss: 0.1479, Val Accuracy: 94.75%\n",
            "Epoch 58/60, Train Loss: 0.1771, Train Accuracy: 94.31%, Val Loss: 0.1420, Val Accuracy: 94.75%\n",
            "Epoch 59/60, Train Loss: 0.1961, Train Accuracy: 92.88%, Val Loss: 0.1401, Val Accuracy: 94.75%\n",
            "Epoch 60/60, Train Loss: 0.1568, Train Accuracy: 94.88%, Val Loss: 0.1390, Val Accuracy: 95.25%\n"
          ]
        }
      ],
      "source": [
        "import torch.optim as optim\n",
        "from torch.optim.lr_scheduler import CosineAnnealingLR, StepLR\n",
        "\n",
        "train_losses = []\n",
        "val_losses = []\n",
        "train_accuracies = []\n",
        "val_accuracies = []\n",
        "\n",
        "epochs = 60\n",
        "best_val_loss = float('inf')\n",
        "\n",
        "# Criterion and Optimizer\n",
        "\n",
        "criterion = nn.BCEWithLogitsLoss()\n",
        "# criterion = nn.CrossEntropyLoss()\n",
        "\n",
        "optimizer = optim.Adam(model.parameters(), lr=1e-3)\n",
        "\n",
        "# lr_scheduler = CosineAnnealingLR(optimizer, T_max=len(train_loader)*epochs, eta_min=0)\n",
        "lr_scheduler = StepLR(optimizer, step_size=10, gamma=0.1)\n",
        "\n",
        "for epoch in range(epochs):\n",
        "    # Training\n",
        "    model.train()\n",
        "    total_loss = 0.0\n",
        "    train_correct = 0\n",
        "    total_train_samples = 0\n",
        "\n",
        "    for images, labels in train_loader:\n",
        "        images = images.cuda()\n",
        "        images = images / 255.\n",
        "        labels = labels.cuda()\n",
        "        optimizer.zero_grad()\n",
        "        outputs = model(images)\n",
        "\n",
        "        labels = labels.float().unsqueeze(1)\n",
        "        # labels = labels.long()\n",
        "\n",
        "        loss = criterion(outputs, labels)\n",
        "        loss.backward()\n",
        "        optimizer.step()\n",
        "        total_loss += loss.item()\n",
        "\n",
        "        train_predicted = torch.sigmoid(outputs) > 0.5\n",
        "        # train_predicted = outputs.argmax(-1)\n",
        "        train_correct += (train_predicted.float() == labels).sum().item()\n",
        "        total_train_samples += labels.size(0)\n",
        "\n",
        "    avg_train_loss = total_loss / len(train_loader)\n",
        "    train_accuracy = 100. * train_correct / total_train_samples\n",
        "\n",
        "    # Validation\n",
        "    model.eval()\n",
        "    total_val_loss = 0.0\n",
        "    correct = 0\n",
        "    total = 0\n",
        "    with torch.no_grad():\n",
        "        for images, labels in val_loader:\n",
        "            images = images.cuda()\n",
        "            images = images / 255.\n",
        "            labels = labels.cuda()\n",
        "            outputs = model(images)\n",
        "\n",
        "            labels = labels.float().unsqueeze(1)\n",
        "            # labels = labels.long()\n",
        "\n",
        "            loss = criterion(outputs, labels)\n",
        "            total_val_loss += loss.item()\n",
        "\n",
        "            train_predicted = torch.sigmoid(outputs) > 0.5\n",
        "            # train_predicted = outputs.argmax(-1)\n",
        "            correct += (train_predicted.float() == labels).sum().item()\n",
        "            total += labels.size(0)\n",
        "\n",
        "    avg_val_loss = total_val_loss / len(val_loader)\n",
        "    val_accuracy = 100. * correct / total\n",
        "\n",
        "    print(f'Epoch {epoch+1}/{epochs}, Train Loss: {avg_train_loss:.4f}, Train Accuracy: {train_accuracy:.2f}%, Val Loss: {avg_val_loss:.4f}, Val Accuracy: {val_accuracy:.2f}%')\n",
        "\n",
        "    # Learning rate update\n",
        "    lr_scheduler.step()\n",
        "\n",
        "    # Checkpoint\n",
        "    if avg_val_loss < best_val_loss:\n",
        "        best_val_loss = avg_val_loss\n",
        "        torch.save(model.state_dict(), 'model_classification.pth')\n",
        "\n",
        "    # Store performance\n",
        "    train_losses.append(avg_train_loss)\n",
        "    train_accuracies.append(train_accuracy)\n",
        "    val_losses.append(avg_val_loss)\n",
        "    val_accuracies.append(val_accuracy)"
      ]
    },
    {
      "cell_type": "markdown",
      "metadata": {
        "id": "pjmYxAJnxc6t"
      },
      "source": [
        "### Visualizing model performance"
      ]
    },
    {
      "cell_type": "code",
      "execution_count": null,
      "metadata": {
        "id": "pHpS0Q7vxc6t",
        "colab": {
          "base_uri": "https://localhost:8080/",
          "height": 487
        },
        "outputId": "f47e8723-ba0b-469b-dec4-8a5eb783654f"
      },
      "outputs": [
        {
          "output_type": "display_data",
          "data": {
            "text/plain": [
              "<Figure size 1500x500 with 2 Axes>"
            ],
            "image/png": "[encoded data removed]"
          },
          "metadata": {}
        }
      ],
      "source": [
        "import matplotlib.pyplot as plt\n",
        "\n",
        "fig, ax = plt.subplots(1, 2, figsize=(15, 5))\n",
        "\n",
        "# Plotting training and validation accuracy\n",
        "ax[0].plot(train_accuracies)\n",
        "ax[0].plot(val_accuracies)\n",
        "ax[0].set_title('Model Accuracy')\n",
        "ax[0].set_xlabel('Epochs')\n",
        "ax[0].set_ylabel('Accuracy')\n",
        "ax[0].legend(['Train', 'Val'])\n",
        "\n",
        "# Plotting training and validation loss\n",
        "ax[1].plot(train_losses)\n",
        "ax[1].plot(val_losses)\n",
        "ax[1].set_title('Model Loss')\n",
        "ax[1].set_xlabel('Epochs')\n",
        "ax[1].set_ylabel('Loss')\n",
        "ax[1].legend(['Train', 'Val'])\n",
        "\n",
        "plt.show()"
      ]
    },
    {
      "cell_type": "code",
      "execution_count": null,
      "metadata": {
        "colab": {
          "base_uri": "https://localhost:8080/"
        },
        "id": "4q6O3twDDB41",
        "outputId": "28cf33e7-8982-4f6d-edfd-7c2f3e2cc797"
      },
      "outputs": [
        {
          "output_type": "stream",
          "name": "stdout",
          "text": [
            "--2023-10-15 18:02:50--  https://raw.githubusercontent.com/TacoXDD/homeworks/master/dataset/test/test_normal.npy\n",
            "Resolving raw.githubusercontent.com (raw.githubusercontent.com)... 185.199.109.133, 185.199.111.133, 185.199.110.133, ...\n",
            "Connecting to raw.githubusercontent.com (raw.githubusercontent.com)|185.199.109.133|:443... connected.\n",
            "HTTP request sent, awaiting response... 200 OK\n",
            "Length: 13107328 (12M) [application/octet-stream]\n",
            "Saving to: ‘test_normal.npy.17’\n",
            "\n",
            "\rtest_normal.npy.17    0%[                    ]       0  --.-KB/s               \rtest_normal.npy.17  100%[===================>]  12.50M  --.-KB/s    in 0.1s    \n",
            "\n",
            "2023-10-15 18:02:50 (117 MB/s) - ‘test_normal.npy.17’ saved [13107328/13107328]\n",
            "\n",
            "--2023-10-15 18:02:50--  https://raw.githubusercontent.com/TacoXDD/homeworks/master/dataset/test/test_pneumonia.npy\n",
            "Resolving raw.githubusercontent.com (raw.githubusercontent.com)... 185.199.110.133, 185.199.109.133, 185.199.108.133, ...\n",
            "Connecting to raw.githubusercontent.com (raw.githubusercontent.com)|185.199.110.133|:443... connected.\n",
            "HTTP request sent, awaiting response... 200 OK\n",
            "Length: 13107328 (12M) [application/octet-stream]\n",
            "Saving to: ‘test_pneumonia.npy.17’\n",
            "\n",
            "test_pneumonia.npy. 100%[===================>]  12.50M  --.-KB/s    in 0.1s    \n",
            "\n",
            "2023-10-15 18:02:50 (119 MB/s) - ‘test_pneumonia.npy.17’ saved [13107328/13107328]\n",
            "\n"
          ]
        }
      ],
      "source": [
        "!wget https://raw.githubusercontent.com/TacoXDD/homeworks/master/dataset/test/test_normal.npy\n",
        "!wget https://raw.githubusercontent.com/TacoXDD/homeworks/master/dataset/test/test_pneumonia.npy"
      ]
    },
    {
      "cell_type": "code",
      "source": [
        "import numpy as np\n",
        "\n",
        "test_abnormal = np.load('test_pneumonia.npy')\n",
        "test_normal = np.load('test_normal.npy')\n",
        "\n",
        "print(f'Shape of test_abnormal: {test_abnormal.shape}')\n",
        "print(f'Shape of test_normal: {test_normal.shape}')\n",
        "\n",
        "# For the data having presence of pneumonia assign 1, for the normal ones assign 0.\n",
        "test_abnormal_labels = np.ones((test_abnormal.shape[0],))\n",
        "test_normal_labels = np.zeros((test_normal.shape[0],))\n",
        "\n",
        "x_test = np.concatenate((test_abnormal, test_normal), axis=0)\n",
        "y_test = np.concatenate((test_abnormal_labels, test_normal_labels), axis=0)\n",
        "\n",
        "print(f'Shape of x_test: {x_test.shape}')\n",
        "print(f'Shape of y_test: {y_test.shape}')\n",
        "\n"
      ],
      "metadata": {
        "colab": {
          "base_uri": "https://localhost:8080/"
        },
        "id": "sHofvT_5IapE",
        "outputId": "5b42a4ed-f959-49eb-f4fc-6865a57ca683"
      },
      "execution_count": null,
      "outputs": [
        {
          "output_type": "stream",
          "name": "stdout",
          "text": [
            "Shape of test_abnormal: (200, 256, 256)\n",
            "Shape of test_normal: (200, 256, 256)\n",
            "Shape of x_test: (400, 256, 256)\n",
            "Shape of y_test: (400,)\n"
          ]
        }
      ]
    },
    {
      "cell_type": "code",
      "source": [
        "import torch\n",
        "from torch.utils.data import DataLoader, TensorDataset, random_split\n",
        "\n",
        "# Convert to PyTorch tensors\n",
        "x_test = torch.Tensor(x_test).float()\n",
        "y_test = torch.Tensor(y_test).long()\n",
        "\n",
        "# Combine the images and labels into a dataset\n",
        "test_dataset = TensorDataset(x_test, y_test)\n",
        "\n",
        "# Create a dataloader to load data in batches. Set batch size to 32.\n",
        "test_loader = DataLoader(test_dataset, batch_size=32, shuffle=True)"
      ],
      "metadata": {
        "id": "I9dIVH2QIdqG"
      },
      "execution_count": null,
      "outputs": []
    },
    {
      "cell_type": "markdown",
      "source": [],
      "metadata": {
        "id": "gN6MRegqec4K"
      }
    },
    {
      "cell_type": "code",
      "source": [
        "model = nn.Sequential(\n",
        "    nn.Flatten(),\n",
        "\n",
        "    nn.Linear(256*256*1, 64),\n",
        "    nn.BatchNorm1d(64),\n",
        "    nn.ReLU(),\n",
        "    nn.Dropout(0.5),\n",
        "\n",
        "    nn.Linear(64, 64),\n",
        "    nn.BatchNorm1d(64),\n",
        "    nn.ReLU(),\n",
        "    nn.Dropout(0.5),\n",
        "\n",
        "    nn.Linear(64, 64),\n",
        "    nn.BatchNorm1d(64),\n",
        "    nn.ReLU(),\n",
        "    nn.Dropout(0.5),\n",
        "\n",
        "    # nn.Linear(64, 2)\n",
        "    nn.Linear(64, 1)\n",
        ").cuda()\n",
        "\n",
        "# Load the trained weights\n",
        "model.load_state_dict(torch.load('model_classification.pth'))\n",
        "\n",
        "# Set the model to evaluation mode\n",
        "model.eval()\n",
        "\n"
      ],
      "metadata": {
        "colab": {
          "base_uri": "https://localhost:8080/"
        },
        "id": "VDp5Pfo9IjWy",
        "outputId": "f1bc4e81-26a7-4ef7-9db6-841adb75cbbb"
      },
      "execution_count": null,
      "outputs": [
        {
          "output_type": "execute_result",
          "data": {
            "text/plain": [
              "Sequential(\n",
              "  (0): Flatten(start_dim=1, end_dim=-1)\n",
              "  (1): Linear(in_features=65536, out_features=64, bias=True)\n",
              "  (2): BatchNorm1d(64, eps=1e-05, momentum=0.1, affine=True, track_running_stats=True)\n",
              "  (3): ReLU()\n",
              "  (4): Dropout(p=0.5, inplace=False)\n",
              "  (5): Linear(in_features=64, out_features=64, bias=True)\n",
              "  (6): BatchNorm1d(64, eps=1e-05, momentum=0.1, affine=True, track_running_stats=True)\n",
              "  (7): ReLU()\n",
              "  (8): Dropout(p=0.5, inplace=False)\n",
              "  (9): Linear(in_features=64, out_features=64, bias=True)\n",
              "  (10): BatchNorm1d(64, eps=1e-05, momentum=0.1, affine=True, track_running_stats=True)\n",
              "  (11): ReLU()\n",
              "  (12): Dropout(p=0.5, inplace=False)\n",
              "  (13): Linear(in_features=64, out_features=1, bias=True)\n",
              ")"
            ]
          },
          "metadata": {},
          "execution_count": 176
        }
      ]
    },
    {
      "cell_type": "code",
      "source": [
        "test_correct = 0\n",
        "test_total = 0\n",
        "\n",
        "\n",
        "with torch.no_grad():\n",
        "    for images, labels in test_loader:\n",
        "\n",
        "        images = images.cuda()\n",
        "        images = images / 255.\n",
        "\n",
        "        labels = labels.cuda()\n",
        "\n",
        "        outputs = model(images)\n",
        "\n",
        "        labels_float = labels.float().unsqueeze(1)  # Convert labels to float and match shape with outputs\n",
        "        # labels_float = labels.long()\n",
        "\n",
        "        train_predicted = (outputs > 0.5).float()\n",
        "        # train_predicted = outputs.argmax(-1)\n",
        "\n",
        "        test_correct += (train_predicted.float() == labels_float).sum().item()\n",
        "        test_total += labels.size(0)\n",
        "\n",
        "        train_accuracy = 100. * test_correct / test_total\n",
        "\n",
        "print(f'Test accuracy is {train_accuracy:.2f}%.')"
      ],
      "metadata": {
        "colab": {
          "base_uri": "https://localhost:8080/"
        },
        "id": "1lKj3uw0hXmK",
        "outputId": "781b2ae5-10e7-4f70-f9e5-5f7f87a63d8a"
      },
      "execution_count": null,
      "outputs": [
        {
          "output_type": "stream",
          "name": "stdout",
          "text": [
            "Test accuracy is 74.75%.\n"
          ]
        }
      ]
    }
  ],
  "metadata": {
    "accelerator": "GPU",
    "colab": {
      "gpuType": "T4",
      "provenance": [],
      "include_colab_link": true
    },
    "kernelspec": {
      "display_name": "Python 3",
      "name": "python3"
    },
    "language_info": {
      "codemirror_mode": {
        "name": "ipython",
        "version": 3
      },
      "file_extension": ".py",
      "mimetype": "text/x-python",
      "name": "python",
      "nbconvert_exporter": "python",
      "pygments_lexer": "ipython3",
      "version": "3.8.13"
    }
  },
  "nbformat": 4,
  "nbformat_minor": 0
}